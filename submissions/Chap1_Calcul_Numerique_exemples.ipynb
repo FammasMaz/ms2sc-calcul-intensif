{
 "cells": [
  {
   "cell_type": "markdown",
   "id": "60f9f2e4",
   "metadata": {
    "slideshow": {
     "slide_type": "slide"
    }
   },
   "source": [
    "# METHODES MATRICIELLES POUR LE CALCUL INTENSIF\n",
    "## P.A. Boucard\n",
    "### *Très largement inspiré du cours donné par P. Gosselet jusqu'en 2018*\n",
    "Ce cours est divisé en 7 grands chapitres :\n",
    "- Calcul numérique\n",
    "- Algèbre\n",
    "- Conditionnement\n",
    "- Généralités sur la résolution des systèmes linéaires\n",
    "- Solveurs directs\n",
    "- Solveurs itératifs\n",
    "- Problèmes aux valeurs propres"
   ]
  },
  {
   "cell_type": "markdown",
   "id": "197de802-4020-49fb-b314-bc9d63f10770",
   "metadata": {
    "slideshow": {
     "slide_type": "slide"
    },
    "tags": []
   },
   "source": [
    "# Calcul numérique\n",
    "\n",
    "## Nombres à virgule flottante\n",
    "\n",
    "### Les nombres à virgule flottante\n",
    "\n",
    "Un nombre à virgule flottante est de la forme $x=s.m.\\beta^e$ : $s$ est\n",
    "le signe de $x$, $m$ est la mantisse, $\\beta$ la base (en pratique $2$)\n",
    "et $e$ l'exposant. La mantisse $m$ est décrite par au plus $p$ chiffres\n",
    "en base $\\beta$ ($m$ est un nombre à virgule) et\n",
    "$e_{\\min}\\leqslant e\\leqslant e_{\\max}$, $e$ est lui aussi stocké en\n",
    "base $\\beta$ sous la forme de $d$ chiffres et un signe. Un dernier\n",
    "détail consiste à rendre unique la représentation des nombres (parce que\n",
    "$3.140\\ 10^0=0.314\\ 10^1$). Une solution, en base deux, est de toujours\n",
    "imposer que le premier chiffre de la mantisse soit 1 (d'ailleurs ce\n",
    "nombre n'est pas stocké, c'est le bit de tête implicite), on parle de\n",
    "nombre normalisé. Cela limite la précision inférieure des calculs. Une\n",
    "solution est de pouvoir passer en représentation dénormalisée (ce qui\n",
    "permet des mantisses plus petites).\n",
    "\n",
    "On propose de donner une représentation de nombres flottants\n",
    "obtenus pour des flottants du type $x=0.d_1d_2d_3 2^e$ où les $d_i$ sont\n",
    "des chiffres en base 2 et $e$ est stocké sur 2 bits\n",
    "($-1\\leqslant e\\leqslant 2$). On voit que les flottants ne sont pas\n",
    "équirépartis dans ${\\mathbb{R}}$.\n",
    "\n"
   ]
  },
  {
   "cell_type": "code",
   "execution_count": 5,
   "id": "e8b5e25e-83ef-4573-a0fb-70b32d1f0269",
   "metadata": {
    "scrolled": false,
    "slideshow": {
     "slide_type": "subslide"
    }
   },
   "outputs": [
    {
     "data": {
      "image/png": "[encoded data removed]",
      "text/plain": [
       "<Figure size 1000x300 with 1 Axes>"
      ]
     },
     "metadata": {},
     "output_type": "display_data"
    }
   ],
   "source": [
    "import matplotlib.pyplot as plt\n",
    "list_values = [0, 1]\n",
    "mylist =[];\n",
    "myplot=[]\n",
    "for i in list_values:\n",
    "    for j in list_values:\n",
    "           for k in list_values:\n",
    "                for l in [-1, 0, 1, 2]:\n",
    "                    rep_flot = ((1-i)*1/2+(1-j)*1/4+(1-k)*1/8)*2**l \n",
    "                    mylist = mylist + [rep_flot]\n",
    "                    myplot = myplot + [1]\n",
    "mylist.sort\n",
    "plt.figure(figsize=(10,3))\n",
    "plt.title(\"Exemple de répartion de flottants\")\n",
    "plt.scatter(mylist,myplot)\n",
    "frame1 = plt.gca()\n",
    "frame1.axes.get_yaxis().set_ticks([])\n",
    "plt.show()"
   ]
  },
  {
   "cell_type": "markdown",
   "id": "6dd98844",
   "metadata": {
    "slideshow": {
     "slide_type": "subslide"
    }
   },
   "source": [
    "Adapter ce petit programme pour représenter des entiers type $x=0.d_1d_2d_3d_4 2^e$ où les $d_i$ sont\n",
    "des chiffres en base 2 et $e$ est stocké sur 3 bits\n",
    "($-3\\leqslant e\\leqslant 4$)."
   ]
  },
  {
   "cell_type": "code",
   "execution_count": 1,
   "id": "1986485f",
   "metadata": {
    "slideshow": {
     "slide_type": "-"
    }
   },
   "outputs": [
    {
     "data": {
      "image/png": "[encoded data removed]",
      "text/plain": [
       "<Figure size 1000x300 with 1 Axes>"
      ]
     },
     "metadata": {},
     "output_type": "display_data"
    }
   ],
   "source": [
    "import matplotlib.pyplot as plt\n",
    "list_values = [0, 1]\n",
    "mylist =[];\n",
    "myplot=[]\n",
    "for i in list_values:\n",
    "    for j in list_values:\n",
    "           for k in list_values:\n",
    "                for l in list_values:\n",
    "                    for m in [-3, -2, -1, 0, 1, 2, 3, 4]:\n",
    "                        rep_flot = ((1-i)*1/2+(1-j)*1/4+(1-k)*1/8+(1-l)*1/16)*2**m \n",
    "                        mylist = mylist + [rep_flot]\n",
    "                        myplot = myplot + [1]\n",
    "    mylist.sort\n",
    "plt.figure(figsize=(10,3))\n",
    "plt.title(\"Exemple de répartion de flottants\")\n",
    "plt.scatter(mylist,myplot)\n",
    "frame1 = plt.gca()\n",
    "frame1.axes.get_yaxis().set_ticks([])\n",
    "plt.show()"
   ]
  },
  {
   "cell_type": "markdown",
   "id": "94d8466a",
   "metadata": {
    "slideshow": {
     "slide_type": "slide"
    }
   },
   "source": [
    "Soit $\\mathbb{F}\\subset\\mathbb{Q}$ l'ensemble des flottants.\n",
    "Malheureusement, cet espace n'a pas de belle structure algébrique quand\n",
    "on le munit des opérations usuelles. En particulier, il n'est pas stable\n",
    "par les opérations usuelles. Par exemple 1 et\n",
    "$(10)_{decimal}=(1010)_{binaire}$ sont des flottants mais\n",
    "$(1/10)_{decimal}=0.0001100110011\\ldots$ n'est pas flottant. On doit\n",
    "donc systématiquement ajouter une étape d'arrondi pour pouvoir\n",
    "représenter le résultat d'une opération dans $\\mathbb{F}$. Outre des\n",
    "problèmes de précison, cet arrondi entraîne la perte de certaines\n",
    "propriétés notamment les opérations ne sont plus associatives (ni\n",
    "distributives). Cela signifie que l'ordre dans lequel on conduit les\n",
    "opérations est primordial. Par exemple, que vaut : $0.1 + 10^{20} - 10^{20}$..."
   ]
  },
  {
   "cell_type": "code",
   "execution_count": 2,
   "id": "f639369d",
   "metadata": {
    "scrolled": true,
    "slideshow": {
     "slide_type": "-"
    }
   },
   "outputs": [
    {
     "name": "stdout",
     "output_type": "stream",
     "text": [
      "0.1\n",
      "0.0\n"
     ]
    }
   ],
   "source": [
    "print(0.1 + (10**20 - 10**20))\n",
    "print((0.1 + 10**20) - 10**20)"
   ]
  },
  {
   "cell_type": "markdown",
   "id": "eea560b5",
   "metadata": {
    "slideshow": {
     "slide_type": "subslide"
    }
   },
   "source": [
    "On constate clairement la différence entre $0.1 + (10^{20} - 10^{20}) = 0.1, \\qquad (0.1 + 10^{20}) - 10^{20} = 0.$\n",
    "Pour les flottants, si on ne met pas de parenthèses pour forcer l'ordre\n",
    "d'évaluation des opérations, on ne peut pas garantir la reproductibilité\n",
    "d'un résultat.\n",
    "\n",
    "### La norme IEEE 754\n",
    "\n",
    "Quatre formats en base 2 sont prévus (voir table\n",
    "ci-dessous) :\n",
    "simple précision (correspondant généralement au type *float* en C),\n",
    "simple précision étendue (obsolète), double précision (correspondant\n",
    "généralement au type *double* en C) et double précision étendue\n",
    "(*extended* en anglais). La quadruple précision a été introduite plus\n",
    "récemment. La norme prévoit également les nombres spéciaux $-\\infty$,\n",
    "$+\\infty$ et NaN (*not a number*) sur lesquels les opérations standards\n",
    "sont définies (+,-,\\*,/). Le zéro est signé ($1/(-0)=-\\infty$).\n",
    "\n",
    "Remarque : l'exposant peut être positif ou négatif. Cependant, la représentation habituelle des nombres signés (complément à 2) rend la comparaison entre les nombres flottants un peu plus difficile. Pour régler ce problème, l'exposant est « biaisé », afin de le stocker sous forme d'un nombre non signé. Ce biais est de $2^{e−1} − 1$ ($e$ représente le nombre de bits de l'exposant) ; il s'agit donc d'une valeur constante une fois que le nombre de bits $e$ est fixé."
   ]
  },
  {
   "cell_type": "markdown",
   "id": "b0b44b22-24c6-4cec-b496-6bd5722c4bed",
   "metadata": {
    "slideshow": {
     "slide_type": "subslide"
    }
   },
   "source": [
    "L'interprétation d'un nombre (autre qu'infini) est donc : valeur = signe × mantisse × $2^{(exposant − biais)}$ avec signe = ±1 et biais = $2^{e−1} − 1$.\n",
    "\n",
    "|format|taille|précision|exposant min|exposant max|valeur max |\n",
    "|:---------:|:----------------:|:-----------------------------:|:------------------:|:----------------:|:----------------------:|\n",
    "| simple | 32 | 23 + 1 bits | -126 | +127 | $3.403$ $10^{38}$|\n",
    "| double     | 64               |       52 + 1 bits               |        -1022       |        +1023     | $1.798$  $10^{308}$    |\n",
    "| *extended* | $\\geqslant$ $79$   | $\\geqslant 63+1$ bits | $\\leqslant$ -16382  | $\\geqslant$ 16383 | $1.190$ $10^{4932}$   |\n",
    "| quadruple  | 128          |       112 + 1 bits          |        -16382   |      16383     | $1.190$ $10^{4932}$   |\n",
    "\n",
    "<center> Norme IEEE 754</center>"
   ]
  },
  {
   "cell_type": "markdown",
   "id": "27874dd3",
   "metadata": {
    "slideshow": {
     "slide_type": "subslide"
    }
   },
   "source": [
    "Des drapeaux (*flags*) sont prévus, auxquels il est possible d'associer\n",
    "des exceptions :\n",
    "\n",
    "-   drapeau inexact quand le calcul a nécessité un arrondi,\n",
    "\n",
    "-   drapeau opération invalide quand le calcul donne un NaN:\n",
    "    $\\infty/\\infty$ ou $\\sqrt{-1}$ ou $\\infty-\\infty$ ou $0/0$,\n",
    "\n",
    "-   drapeau division par zéro,\n",
    "\n",
    "-   drapeau débordement vers l'infini (*overflow*) quand le résultat\n",
    "    d'une opération est trop grand en valeur absolue pour être\n",
    "    représenté à cause de la borne supérieure des exposants\n",
    "    représentables,\n",
    "\n",
    "-   drapeau débordement vers zéro (*underflow*) quand le résultat d'une\n",
    "    opération est trop petit en valeur absolue pour être représenté à\n",
    "    cause de la borne inférieure des exposants représentables.\n",
    "\n",
    "Quatre modes d'arrondi sont définis : les arrondis dirigés (vers\n",
    "$-\\infty$, vers $+\\infty$, ou vers $0$) et l'arrondi au plus proche. Ce\n",
    "dernier est ambigu quand le nombre à arrondir est équidistant de deux\n",
    "flottants, la norme impose de choisir celui dont la mantisse est paire\n",
    "(on parle d'arrondi pair)."
   ]
  },
  {
   "cell_type": "markdown",
   "id": "a4abca94",
   "metadata": {
    "slideshow": {
     "slide_type": "subslide"
    }
   },
   "source": [
    "Une fois le mode d'arrondi choisi, le résultat d'une opération est\n",
    "parfaitement spécifié, notamment le résultat est unique, on parle\n",
    "d'arrondi correct. La norme impose l'arrondi correct pour les quatre\n",
    "opérations de base (addition, soustraction, multiplication, division)\n",
    "ainsi que pour la racine carrée. On est donc sensé obtenir le même\n",
    "résultat sur des machines différentes respectant la norme ; mais souvent\n",
    "les machines utilisent des précisions intermédiaires étendues\n",
    "non-normalisées et les compilateurs s'autorisent à réorganiser les\n",
    "opérations (alors que les opérations flottantes perdent leur propriétés\n",
    "d'associativité), sans parler des problèmes de doubles arrondis (quand,\n",
    "en arrondi au plus proche, on utilise des précisions intermédiaires\n",
    "différentes).\n",
    "\n",
    "Les arrondis vers l'infini permettent une arithmétique d'intervalle\n",
    "(toujours majorer ou minorer un résultat).\n",
    "\n",
    "La norme ne spécifie rien sur les autres opérations (puissance,\n",
    "exponentielle, logarithme, sinus, cosinus, etc).\n",
    "\n",
    "On propose d'implémenter en Python une conversion décimal - binaire - décimal : il est pertinent de lire ici par exemple : https://fr.wikipedia.org/wiki/IEEE_754 les compléments d'informations en particulier le biais de l'exposant (on ne stocke pas l'exposant, mais l'esposant+127, le nombre zéro correspond à un exposant ET une mantisse nulle...) "
   ]
  },
  {
   "cell_type": "code",
   "execution_count": 8,
   "id": "e920201c",
   "metadata": {
    "slideshow": {
     "slide_type": "subslide"
    }
   },
   "outputs": [
    {
     "name": "stdout",
     "output_type": "stream",
     "text": [
      "Signe | Exposant | Mantisse\n",
      "  1   | 01111101 | 01010101010101010101011\n",
      "Nombre Négatif\n",
      "Exposant :-2\n",
      "Forme de l\\écriture binaire\n"
     ]
    },
    {
     "data": {
      "text/latex": [
       "$-1.33331298828125\\times2^{-2}$"
      ],
      "text/plain": [
       "<IPython.core.display.Latex object>"
      ]
     },
     "metadata": {},
     "output_type": "display_data"
    },
    {
     "name": "stdout",
     "output_type": "stream",
     "text": [
      "Recalcul de la valeur décimale - éventuellement arrondie\n",
      "-0.3333282470703125\n"
     ]
    }
   ],
   "source": [
    "import struct\n",
    "from IPython.display import display, Latex\n",
    "#Conversion en binaire\n",
    "def binary(num):\n",
    "    convstr = ''.join('{:0>8b}'.format(c) for c in struct.pack('!f', num));\n",
    "    return convstr\n",
    "# Conversion\n",
    "binaire=binary(-1/3);\n",
    "# Affichage\n",
    "print ('Signe | Exposant | Mantisse')\n",
    "print('  '+binaire[0:1]+'   | '+binaire[1:9]+' | '+binaire[9:])\n",
    "signe=binaire[0:1]\n",
    "exposant=binaire[1:9]\n",
    "mantisse=binaire[9:]\n",
    "#\n",
    "# Cas particulier\n",
    "#\n",
    "if int(exposant,2)==0 and int(mantisse,2)==0:\n",
    "    print('Nombre Nul')\n",
    "else:\n",
    "    if int(signe,2)==0:\n",
    "        print('Nombre Positif')\n",
    "    else:\n",
    "        print('Nombre Négatif')\n",
    "#\n",
    "# Informations\n",
    "    print('Exposant :'+str(int(exposant,2)-127))\n",
    "#\n",
    "# Nombre\n",
    "# pour le calcul de la partie mantisse\n",
    "    mant=[1/2,1/4,1/8,1/16,1/32,1/64,1/128,1/256,1/512,1/1024,1/2048,1/4096,1/8192,1/16384];\n",
    "#\n",
    "    if int(signe,2)==0:\n",
    "        print('Forme de l\\'écriture binaire')\n",
    "        display(Latex('$+'+str(1+sum(x * y for x,y in zip(map(int,[*mantisse]), mant)))+'\\\\times2^{'+str(int(exposant,2)-127)+'}$'))\n",
    "        print('Recalcul de la valeur décimale - éventuellement arrondie')\n",
    "        print ((1+sum(x * y for x,y in zip(map(int,[*mantisse]), mant)))*2**(int(exposant,2)-127))\n",
    "    else:\n",
    "        print('Forme de l\\écriture binaire')\n",
    "        display(Latex('$-'+str(1+sum(x * y for x,y in zip(map(int,[*mantisse]), mant)))+'\\\\times2^{'+str(int(exposant,2)-127)+'}$'))\n",
    "        print('Recalcul de la valeur décimale - éventuellement arrondie')\n",
    "        print (-(1+sum(x * y for x,y in zip(map(int,[*mantisse]), mant)))*2**(int(exposant,2)-127))\n"
   ]
  },
  {
   "cell_type": "markdown",
   "id": "e392cc53",
   "metadata": {
    "slideshow": {
     "slide_type": "slide"
    }
   },
   "source": [
    "### Le calcul d'erreurs\n",
    "\n",
    "Comme la propagation d'erreur d'arrondi est inévitable, l'objectif est\n",
    "simplement de contrôler l'erreur. On introduit pour cela la notion d'ulp\n",
    "(*unit last place*) qui est le plus petit flottant représentable sur le\n",
    "squelette d'un nombre donné (c'est le poids du plus petit bit de la\n",
    "mantisse d'un flottant) : si $x=1.b_{-1}...b_{1-p}\\ 2^e$, alors\n",
    "${\\operatorname{ulp}}(x)=2^{e+1-p}$.\n",
    "\n",
    "La façon traditionnelle d'appréhender les erreurs consiste à introduire\n",
    "une erreur d'arrondi $u$ ($u$ est de l'ordre de $10^{-16}$ en double\n",
    "précision). Soit $R$ une fonction d'arrondi et $x$ le résultat d'un\n",
    "calcul (+,\\*,/,-,$\\sqrt{}$) qui n'a pas explosé, la norme garantit:\n",
    "$$\\left|\\frac{x-R(x)}{R(x)}\\right| \\leqslant u, \\qquad \\left|\\frac{x-R(x)}{x}\\right| \\leqslant \\frac{u}{1-u}\\simeq u$$\n",
    "\n",
    "La technique d'estimation d'erreur consiste à chaque opération à insérer\n",
    "un facteur $(1+\\delta)$ avec $|\\delta|\\leqslant u$ et de voir comment\n",
    "les erreurs se propagent et se cumulent.\n",
    "\n",
    "**Exemple 1.1** ($(x+y)/2$). On va introduire $\\delta_1$ pour la\n",
    "division par 2 et $\\delta_2$ pour l'addition $$\\begin{aligned}\n",
    "    R((x+y)/2) &= R(x+y)/2 * (1+\\delta_1) = (x+y)(1+\\delta_2)(1+\\delta_1)/2 \\\\ \n",
    "    R((x+y)/2)-(x+y)/2 &= (\\delta_1 +\\delta_2 + \\delta_1\\delta_2)(x+y)/2 \\\\\n",
    "    \\left|\\frac{R((x+y)/2)-(x+y)/2}{(x+y)/2}\\right| &\\leqslant 2u\n",
    "\\end{aligned}$$ On néglige l'ordre 2. On voit que l'erreur est bornée\n",
    "par $2u$."
   ]
  },
  {
   "cell_type": "markdown",
   "id": "7bd2e7bb",
   "metadata": {
    "slideshow": {
     "slide_type": "subslide"
    }
   },
   "source": [
    "**Exemple 1.2** ($(a^2-b^2)$ -- effet de cancellation). On a ici deux\n",
    "façon de calculer. $$\\begin{aligned}\n",
    "    R(a^2-b^2)=(a^2(1+\\delta_1)-b^2(1+\\delta_2))(1+\\delta_3)\\\\\n",
    "    \\left|R(a^2-b^2)-(a^2-b^2)\\right|\\leqslant 2u(a^2\\mathbf{+}b^2)\\\\\n",
    "    \\left|\\frac{R(a^2-b^2)-(a^2-b^2)}{a^2-b^2}\\right|\\leqslant 2u\\frac{a^2\\mathbf{+}b^2}{|a^2-b^2|}\\\\\n",
    "    \\end{aligned}$$ Le $+$ est dû au fait que les $\\delta$ peuvent être\n",
    "négatifs.\n",
    "\n",
    "Le facteur $\\frac{a^2\\mathbf{+}b^2}{|a^2-b^2|}$ est le conditionnement\n",
    "de l'opération. On voit que l'erreur peut exploser si $a$ et $b$ sont\n",
    "proches. Par contre si on modifie la façon de calculer:\n",
    "$$\\begin{aligned}\n",
    "R((a-b)(a+b))=R(a-b)R(a+b)(1+\\delta_1)=(a-b)(1+\\delta_2)(a+b)(1+\\delta_3)(1+\\delta_1)\\\\\n",
    "\\left|\\frac{R((a-b)(a+b))-(a-b)(a+b)}{(a-b)(a+b)}\\right| \\leqslant 3u\n",
    "\\end{aligned}$$ Et le calcul devient inconditionnellement précis."
   ]
  },
  {
   "cell_type": "markdown",
   "id": "fd601772",
   "metadata": {
    "slideshow": {
     "slide_type": "subslide"
    }
   },
   "source": [
    "**L'exemple précédent présente le phénomène de cancellation (voir plus\n",
    "loin). Il montre aussi que les calculs ne sont plus associatifs ni\n",
    "distributifs et que le programmeur a un rôle dans la précision de ses\n",
    "calculs.**\n",
    "\n",
    "On illustre plus précisément quelques grandes sources d'erreur. On ne\n",
    "parle pas des erreurs de dépassement de capacité de représentation des\n",
    "nombres."
   ]
  },
  {
   "cell_type": "markdown",
   "id": "18718fe5",
   "metadata": {
    "slideshow": {
     "slide_type": "slide"
    }
   },
   "source": [
    "#### Cancellation\n",
    "\n",
    "Il s'agit du principal problème du calcul en virgule flottante qui\n",
    "apparaît quand on fait la différence entre deux nombres très proches, la\n",
    "partie significative de leur différence après arrondi est alors très\n",
    "faible.\n",
    "\n",
    "Un exemple flagrant est le calcul de $e^{-a}$ avec $a>0$. Si on utilise\n",
    "une série de Taylor, alors pour $a$ grand le calcul peut être faux\n",
    "quelque soit la troncature de la série. Par contre si on prend l'inverse\n",
    "de $e^a$ alors on peut obtenir un résultat exact.\n",
    "\n",
    "Un autre exemple est l'évaluation de la fonction suivante :\n",
    "$$f(x)=\\frac{1-\\cos(x)}{x^2} \\text{ en }x=1,2\\, 10^{-5}$$ si on prend\n",
    "une précision à 10 digits décimaux sur le cos, on a : $$\\begin{aligned}\n",
    "\\cos(x)&=0,9999999999\\\\\n",
    "1-\\cos(x)&=0,0000000001\\\\\n",
    "f(x)=\\frac{10^{-10}}{1,44\\, 10^{-10}}=0,6944\n",
    "\\end{aligned}$$ alors que l'on sait que\n",
    "$\\forall x\\neq0,\\ 0\\leqslant f(x)\\leqslant 0,5$."
   ]
  },
  {
   "cell_type": "markdown",
   "id": "589bba48",
   "metadata": {
    "slideshow": {
     "slide_type": "subslide"
    }
   },
   "source": [
    "La précision à 10 digits n'a pas permis d'avoir 1 digit juste sur le\n",
    "résultat. Le problème vient du fait que $1-\\cos(x)$ n'a qu'un seul\n",
    "chiffre significatif alors que la soustraction est exacte\n",
    "(l'approximation vient du $\\cos$). La soustraction fait donc ressortir\n",
    "une approximation précédente. Si à la place on avait écrit :\n",
    "$$f(x)=\\frac{1}{2}\\left(\\frac{\\sin(x/2)}{x/2}\\right)^2$$ alors on aurait\n",
    "obtenu $f(x)=0,5$ qui est exact à 10 digits.\n",
    "On propose d'effectuer ce petit calcul en Python d'abord sans arrondi, puis avec arrondi."
   ]
  },
  {
   "cell_type": "code",
   "execution_count": 13,
   "id": "8901ab4d",
   "metadata": {
    "slideshow": {
     "slide_type": "subslide"
    }
   },
   "outputs": [
    {
     "name": "stdout",
     "output_type": "stream",
     "text": [
      "Calcul première expression :  0.4999997329749008\n",
      "Calcul deuxième expression :  0.499999999994\n",
      "cos(x) =  0.9999999999\n",
      "1 - cos(x) =  1e-10\n",
      "Résultat première expression avec précision de 10 digits : 0.6944444444444444\n",
      "sin(x/2) =  6e-06\n",
      "Résultat deuxième expression avec précision de 10 digits : 0.5\n"
     ]
    }
   ],
   "source": [
    "from numpy import *\n",
    "x=1.2E-5\n",
    "print('Calcul première expression : ', (1-cos(x))/x**2)\n",
    "print('Calcul deuxième expression : ', (sin(x/2)/(x/2))**2/2)\n",
    "print('cos(x) = ', round(cos(x),10))\n",
    "print('1 - cos(x) = ', round(1 - round(cos(x),10),10))\n",
    "print ('Résultat première expression avec précision de 10 digits :', \n",
    "       round(1 - round(cos(x),10),10)/x**2)\n",
    "print ('sin(x/2) = ', str(round(sin(x/2),10)))\n",
    "print ('Résultat deuxième expression avec précision de 10 digits :', \n",
    "       round(round(sin(x/2),10)/round((x/2),10),10)**2/2)"
   ]
  },
  {
   "cell_type": "markdown",
   "id": "b5c446d4",
   "metadata": {
    "slideshow": {
     "slide_type": "slide"
    }
   },
   "source": [
    "#### Sommation et ordonnancement\n",
    "\n",
    "On rappelle que $\\sum_{i=1}^{n}\\frac{1}{i}-\\ln(n)\\to\\gamma$ où $\\gamma$\n",
    "est la constante d'Euler. $\\gamma$ est un nombre mal connu, on a\n",
    "$\\gamma\\simeq 0.5772156649\\ldots$ (10 premières décimales exactes).\n",
    "\n",
    "On va supposer $\\gamma$ et $\\ln$ suffisamment précises. On évalue\n",
    "l'effet de la sommation (par exemple en précision simple) et en\n",
    "particulier de l'ordonnancement. On donne ci-dessous 2 façon de calculer : une version récursive et une version dite de Kahan. On propose de compléter par 2 autres méthodes : en calculant la somme de façon ascendante d'une part, et de façon descendante d'autre part."
   ]
  },
  {
   "cell_type": "code",
   "execution_count": 15,
   "id": "4775dd08",
   "metadata": {
    "scrolled": true,
    "slideshow": {
     "slide_type": "subslide"
    }
   },
   "outputs": [
    {
     "name": "stdout",
     "output_type": "stream",
     "text": [
      "Erreur ascendante :  5.6878162878915006e-05\n",
      "Erreur descendante :  4.8295094031258756e-05\n",
      "Erreur version récursive :  5.0202442664071256e-05\n",
      "Erreur  version Kahan:  5.0202442664071256e-05\n"
     ]
    }
   ],
   "source": [
    "from numpy import *\n",
    "Euler=0.5772156649\n",
    "n=4\n",
    "s=0\n",
    "for i in range(1,1+10 ** n): # Version ascendante\n",
    "            s=float32(s + float32(1 / i))\n",
    "print('Erreur ascendante : ',str(s - log(10 ** n) - Euler))\n",
    "s=0\n",
    "for i in range(1,1+10 ** n): # Version descendante\n",
    "            s=float32(s + float32(1/(10**n+1-i)))\n",
    "print('Erreur descendante : ',str(s - log(10 ** n) - Euler))\n",
    "\n",
    "def recu(d,f): # Version recursive\n",
    "      if d == f:\n",
    "            s=float32(1/d);\n",
    "      else :\n",
    "            s = float32(recu(d,floor((d+f)/2)) + recu(floor((d+f)/2)+1,f));\n",
    "      return s\n",
    "print('Erreur version récursive : ',str(recu(1,10**n)-log(10**n)-Euler))\n",
    "\n",
    "compensation = 0.0 ; s=0; \n",
    "for i in range(1,1+10 ** n): # Version Kahan\n",
    "    toadd = float32(1 / i) - compensation ;\n",
    "    sTemp = float32(s + toadd);\n",
    "    compensation = float32(float32(sTemp - s)  - toadd) ;\n",
    "    s = sTemp;\n",
    "print('Erreur  version Kahan: ',str(s-log(10**n)-Euler))"
   ]
  },
  {
   "cell_type": "markdown",
   "id": "594d7fa9",
   "metadata": {
    "slideshow": {
     "slide_type": "subslide"
    }
   },
   "source": [
    "On constate que pour la somme dans l'ordre ascendant, au bout d'un certain\n",
    "temps $s\\gg 1/i$ et on perd beaucoup de chiffres significatifs lors de\n",
    "la sommation. Lorsqu'on fait la somme en commençant par les petits\n",
    "nombres, cela évite d'avoir une somme intermédiaire beaucoup plus grande\n",
    "que les termes à ajouter. La méthode récursive est de type *divide and conquer* : on divise en découpant le problème initial en sous-problèmes puis on règne en résolvant les sous-problèmes (récursivement ou directement s'ils sont assez petits). La dernière méthode (de Kahan), plus évoluée essaie d'estimer l'erreur pour la compenser. \n",
    "\n",
    "En simple précision les problèmes arrivent à partir de $n=10^4$, en\n",
    "double précision $10^{12}$.\n",
    "\n",
    "Remarque : pour $10^6$ chiffres sommés tous les algorithmes sauf Kahan\n",
    "donnent une erreur négative (dans les autres cas l'erreur est\n",
    "positive).\n",
    "\n",
    "On propose dans la phase suivante  de tracer les évolutions des erreurs de ces 4 méthodes de $n.$"
   ]
  },
  {
   "cell_type": "code",
   "execution_count": 16,
   "id": "56042c8c",
   "metadata": {
    "slideshow": {
     "slide_type": "-"
    }
   },
   "outputs": [
    {
     "data": {
      "image/png": "[encoded data removed]",
      "text/plain": [
       "<Figure size 640x480 with 1 Axes>"
      ]
     },
     "metadata": {},
     "output_type": "display_data"
    }
   ],
   "source": [
    "import matplotlib.pyplot as plt\n",
    "from numpy import *\n",
    "listasc = [];\n",
    "listdes = [];\n",
    "listrec = [];\n",
    "listkah = [];\n",
    "listval = [];\n",
    "Euler=0.5772156649\n",
    "\n",
    "def recu(d,f): # Version recursive\n",
    "      if d == f:\n",
    "            s=float32(1/d);\n",
    "      else :\n",
    "            s = float32(recu(d,floor((d+f)/2)) + recu(floor((d+f)/2)+1,f));\n",
    "      return s\n",
    "\n",
    "for n in range(1,9):\n",
    "    listval = listval + [10**n]\n",
    "    s=0\n",
    "    for i in range(1,1+10 ** n): # Version ascendante\n",
    "                s=float32(s + float32(1 / i))\n",
    "    listasc = listasc + [abs(s - log(10 ** n) - Euler)]\n",
    "    \n",
    "    s=0\n",
    "    for i in range(1,1+10 ** n): # Version descendante\n",
    "                s=float32(s + float32(1/(10**n+1-i)))\n",
    "    listdes = listdes + [abs(s - log(10 ** n) - Euler)]\n",
    "\n",
    "    listrec = listrec + [abs(recu(1,10**n)-log(10**n)-Euler)] # Version recursive\n",
    "\n",
    "    compensation = 0.0 ; s=0; \n",
    "    for i in range(1,1+10 ** n): # Version Kahan\n",
    "        toadd = float32(1 / i) - compensation ;\n",
    "        sTemp = float32(s + toadd);\n",
    "        compensation = float32(float32(sTemp - s)  - toadd) ;\n",
    "        s = sTemp;\n",
    "    listkah = listkah + [abs(s-log(10**n)-Euler)]\n",
    "\n",
    "fig, ax = plt.subplots()\n",
    "ax.plot(listval, listasc, label=\"ascendante\")\n",
    "ax.plot(listval, listdes, label=\"descendante\")\n",
    "ax.plot(listval, listrec, label=\"récursive\")\n",
    "ax.plot(listval, listkah, label=\"Kahan\")\n",
    "plt.xlabel(\"Nombre de chiffres sommés\")\n",
    "plt.ylabel(r\"Erreur absolue sur $\\gamma$ \")\n",
    "ax.legend()\n",
    "ax.set_xscale('log')\n",
    "ax.set_yscale('log')\n",
    "plt.show()"
   ]
  },
  {
   "cell_type": "markdown",
   "id": "d699e4ce",
   "metadata": {
    "slideshow": {
     "slide_type": "slide"
    }
   },
   "source": [
    "## Stockage des données matricielles\n",
    "\n",
    "On s'intéresse ici à la question du stockage d'une matrice dans la\n",
    "mémoire d'un ordinateur. Les matrices sont des objets bidimensionnels\n",
    "alors que la mémoire d'un ordinateur est un objet 1D où la contiguïté et\n",
    "l'alignement des données est primordial pour tirer les meilleures\n",
    "performances. Suivant l'utilisation, différentes mesures sont utiles :\n",
    "compacité du stockage, facilité pour accéder aux données, facilité pour\n",
    "insérer des données, facilité pour redimensionner.\n",
    "\n",
    "#### Stockage dense\n",
    "\n",
    "C'est un stockage où toutes les données sont stockées, y compris les\n",
    "zéros. C'est un stockage gourmand en mémoire mais très efficace par\n",
    "ailleurs. Comme la mémoire est réservée, il est facile d'insérer des\n",
    "données; il est facile d'accéder aux données qui sont bien alignées;\n",
    "pour le calcul les optimisations sont faciles. Cela peut être observé\n",
    "sur les temps de calculs du\n",
    "code ci-après où des opérations semblant similaires mettent\n",
    "des temps très différents pour s'exécuter."
   ]
  },
  {
   "cell_type": "code",
   "execution_count": 16,
   "id": "f8f31a78",
   "metadata": {
    "slideshow": {
     "slide_type": "subslide"
    }
   },
   "outputs": [
    {
     "name": "stdout",
     "output_type": "stream",
     "text": [
      "Elapsed time: 2.325703 seconds.\n",
      "\n",
      "Elapsed time: 0.002489 seconds.\n",
      "\n",
      "Elapsed time: 0.001906 seconds.\n",
      "\n",
      "Elapsed time: 0.003418 seconds.\n",
      "\n"
     ]
    }
   ],
   "source": [
    "import numpy as np\n",
    "import time\n",
    "\n",
    "def TicTocGenerator():\n",
    "    # Générateur qui renvoie les différences de temps\n",
    "    ti = 0           # temps initial\n",
    "    tf = time.time() # temps final\n",
    "    while True:\n",
    "        ti = tf\n",
    "        tf = time.time()\n",
    "        yield tf-ti # renvoie la différence de temps\n",
    "\n",
    "TicToc = TicTocGenerator() # créer une instance du générateur TicTocGen\n",
    "\n",
    "# Fonction principale à travers laquelle sont définis à la fois tic() et toc().\n",
    "def toc(tempBool=True):\n",
    "    # Affiche la différence de temps produite par l'instance du générateur TicToc.\n",
    "    tempTimeInterval = next(TicToc)\n",
    "    if tempBool:\n",
    "        print( \"Temps écoulé : %f secondes.\\n\" %tempTimeInterval )\n",
    "\n",
    "def tic():\n",
    "    # Enregistre un temps en TicToc, marque le début d'un intervalle de temps\n",
    "    toc(False)\n",
    "\n",
    "    \n",
    "n = 10**3\n",
    "a = np.random.random((n,n))\n",
    "\n",
    "b = np.zeros((n,1))\n",
    "\n",
    "tic()\n",
    "for ii in np.arange(0,n).reshape(-1):\n",
    "    b = b + a[:,ii]\n",
    "toc()\n",
    "\n",
    "b = np.zeros((1,n))\n",
    "\n",
    "tic()\n",
    "for ii in np.arange(0,n).reshape(-1):\n",
    "    b = b + a[ii,:]\n",
    "toc()\n",
    "\n",
    "c = np.ones((n,1))\n",
    "tic()\n",
    "c = a * c\n",
    "toc()\n",
    "\n",
    "tic()\n",
    "c = np.transpose((np.transpose(a) * c))\n",
    "toc()"
   ]
  },
  {
   "cell_type": "markdown",
   "id": "4c7754cc",
   "metadata": {
    "slideshow": {
     "slide_type": "subslide"
    }
   },
   "source": [
    "On distingue deux types de stockage : par ligne ou par colonne. Pour une\n",
    "matrice $m\\times n$, avec la convention de numérotation C (les indices\n",
    "commencent par 0), $m_{ij}$ est stocké à la position $(j+i*n)$ en\n",
    "stockage ligne et $(i+j*m)$ en stockage colonne. La dimension ($n$ en\n",
    "ligne, $m$ en colonne) utilisée pour repérer les coefficients est\n",
    "appelée *leading dimension* (LDA dans les bibliothèques BLAS et LAPACK).\n",
    "Sous réserve que suffisamment de mémoire a été allouée, il est facile\n",
    "d'ajouter des colonnes en stockage colonne, par contre ajouter des\n",
    "lignes réclame des déplacements mémoire.\n",
    "\n",
    "Le stockage colonne est souvent le défaut en fortran, matlab, octave, le\n",
    "stockage ligne est classique en C. Les bibliothèques historiques pour la\n",
    "manipulation de matrices pleines sont BLAS et LAPACK, une bibliothèque\n",
    "plus moderne est EIGEN3."
   ]
  },
  {
   "cell_type": "markdown",
   "id": "103e40b7",
   "metadata": {
    "slideshow": {
     "slide_type": "slide"
    }
   },
   "source": [
    "#### Stockage creux\n",
    "\n",
    "Le stockage creux (*sparse* en anglais) vise à éviter de stocker tous\n",
    "les zéros d'une matrice. Il est indispensable pour les grandes matrices\n",
    "éléments/volumes/différences-fini(e)s qui sont très peu peuplées. Une\n",
    "information utile est le NNZ (*number of non-zeros*) à comparer avec la\n",
    "taille d'un stockage plein $mn$.\n",
    "\n",
    "On distingue différents types de stockage:\n",
    "\n",
    "-   Le stockage AIJ : on stocke 2 tableaux d'entiers et un tableau de\n",
    "    réels tous de taille NNZ: $I,J$, $A(k)=a_{I(k)J(k)}$. De manière à\n",
    "    faciliter la modification de valeurs, on autorise les tableaux à\n",
    "    dépasser NNZ, avec la convention que les coefficients s'additionnent\n",
    "    sur les emplacements répétés.\n",
    "\n",
    "-   Le stockage par ligne (resp. colonne) : on décrit la matrice ligne\n",
    "    par ligne, on n'a plus besoin de stocker dans le tableau $I$ (de\n",
    "    taille $m$) que le nombre d'indices de la ligne.\n",
    "\n",
    "-   Le stockage par ligne (resp. colonne) compressée : si on sait que la\n",
    "    ligne contient des blocs contigus de données, on décrit la ligne\n",
    "    comme une succession de blocs (première colonne, nombre de coeff\n",
    "    dans le bloc), ça permet de réduire la taille de $J$ ; $I$ stocke le\n",
    "    nombre de blocs par ligne.\n",
    "\n",
    "-   Le stockage ligne de ciel (*skyline*) par ligne (resp. colonne) : si\n",
    "    on sait que la matrice contient peu de zéros dans sa bande, on\n",
    "    stocke un bloc par ligne. On économise beaucoup sur $J$ au prix d'un\n",
    "    peu plus de stockage sur $A$."
   ]
  },
  {
   "cell_type": "markdown",
   "id": "a4963c08",
   "metadata": {
    "slideshow": {
     "slide_type": "subslide"
    }
   },
   "source": [
    "On rappelle au passage la notion de bande d'une matrice : il s'agit d'un\n",
    "tableau de $2m$ entiers qui pour chaque ligne contient l'indice de la\n",
    "première et de la dernière colonne non-nulle. Bien sûr si jamais une\n",
    "matrice est symétrique, on ne stocke que la moitié des coefficients. Il\n",
    "arrive aussi fréquemment que le profil de la matrice soit symétrique\n",
    "mais pas nécessairement les coefficients $A$.\n",
    "\n",
    "Manipuler une matrice creuse est extrêmement pénible, et il est\n",
    "recommandé de faire appel à des bibliothèques extérieures et de bien\n",
    "étudier les méthodes proposées. Par exemple dans Matlab, un bon usage de\n",
    "la méthode `sparse()` permet d'économiser des facteurs de temps\n",
    "colossaux."
   ]
  },
  {
   "cell_type": "markdown",
   "id": "fd4f0218",
   "metadata": {
    "slideshow": {
     "slide_type": "subslide"
    }
   },
   "source": [
    "#### Numéroration\n",
    "\n",
    "La numérotation joue une rôle important dans les stockages compressés ou\n",
    "skyline en limitant le nombre de zéros à l'intérieur de la bande. En\n",
    "anticipant un peu, elle joue aussi un rôle très important dans le calcul\n",
    "où de nombreuses factorisations préservent la bande (mais peuplent\n",
    "densément la bande).\n",
    "\n",
    "Par exemple pour une factorisation de Cholesky\n",
    "${\\mathbf{A}}={\\mathbf{L}}{\\mathbf{L}}^T$\n",
    "on a : $${\\mathbf{A}}=\\begin{pmatrix}\n",
    "1.&    0.&    0.&    0.&    1.\\\\\n",
    "0.&    1.&    0.&    0.&    1.\\\\\n",
    "0.&    0.&    1.&    0.&    1.\\\\\n",
    "0.&    0.&    0.&    1.&    1.\\\\\n",
    "1.&    1.&    1.&    1.&    5.\n",
    "\\end{pmatrix},\n",
    "\\quad  {\\mathbf{L}}= \\begin{pmatrix}\n",
    "1.&    0.&    0.&    0.&    0.\\\\\n",
    "0.&    1.&    0.&    0.&    0.\\\\\n",
    "0.&    0.&    1.&    0.&    0.\\\\\n",
    "0.&    0.&    0.&    1.&    0.\\\\\n",
    "1.&    1.&    1.&    1.&    1.\n",
    "\\end{pmatrix}$$ \n",
    "C'est l'occasion de revoir l'algorithme de Cholesky.\n",
    "\n",
    "On obtient la matrice $\\mathbf{L}$ de la manière suivante :\n",
    "\n",
    "$$\\left \\{\n",
    "\\begin{split}\n",
    " & L_{11}=\\sqrt{a_{11}} \\\\\n",
    " & L_{ii}=\\sqrt{a_{ii}-\\sum^{i-1}_{k=1}L^{2}_{ij}}  \\\\\n",
    " & L_{ij}=(a_{ji}-\\sum^{i-1}_{k=1}L_{ik}L_{jk})/L_{ii}  \\\\\n",
    " \\end{split}\n",
    "\\right.$$\n",
    "On implémente ce petit algorithme, et on compare avec la version numpy sur la vitesse d'exécution. Evidemment, une comparaison sur une matrice de plus grande dimension a plus de sens."
   ]
  },
  {
   "cell_type": "code",
   "execution_count": 2,
   "id": "28d19ef2",
   "metadata": {
    "slideshow": {
     "slide_type": "subslide"
    }
   },
   "outputs": [
    {
     "name": "stdout",
     "output_type": "stream",
     "text": [
      "[[1. 0. 0. 0. 1.]\n",
      " [0. 1. 0. 0. 1.]\n",
      " [0. 0. 1. 0. 1.]\n",
      " [0. 0. 0. 1. 1.]\n",
      " [1. 1. 1. 1. 5.]]\n",
      "-----------\n",
      "Temps écoulé : 0.000158 secondes.\n",
      "\n",
      "[[1. 0. 0. 0. 0.]\n",
      " [0. 1. 0. 0. 0.]\n",
      " [0. 0. 1. 0. 0.]\n",
      " [0. 0. 0. 1. 0.]\n",
      " [1. 1. 1. 1. 1.]]\n",
      "-----------\n",
      "Temps écoulé : 0.000112 secondes.\n",
      "\n",
      "[[1. 0. 0. 0. 0.]\n",
      " [0. 1. 0. 0. 0.]\n",
      " [0. 0. 1. 0. 0.]\n",
      " [0. 0. 0. 1. 0.]\n",
      " [1. 1. 1. 1. 1.]]\n",
      "*********************\n",
      "Temps écoulé : 0.108055 secondes.\n",
      "\n",
      "Temps écoulé : 0.000225 secondes.\n",
      "\n",
      "True\n"
     ]
    }
   ],
   "source": [
    "import numpy as np\n",
    "import time\n",
    "\n",
    "def TicTocGenerator():\n",
    "    # Générateur qui renvoie les différences de temps\n",
    "    ti = 0           # temps initial\n",
    "    tf = time.time() # temps final\n",
    "    while True:\n",
    "        ti = tf\n",
    "        tf = time.time()\n",
    "        yield tf-ti # renvoie la différence de temps\n",
    "\n",
    "TicToc = TicTocGenerator() # créer une instance du générateur TicTocGen\n",
    "\n",
    "# Fonction principale à travers laquelle sont définis à la fois tic() et toc().\n",
    "def toc(tempBool=True):\n",
    "    # Affiche la différence de temps produite par l'instance du générateur TicToc.\n",
    "    tempTimeInterval = next(TicToc)\n",
    "    if tempBool:\n",
    "        print( \"Temps écoulé : %f secondes.\\n\" %tempTimeInterval )\n",
    "\n",
    "def tic():\n",
    "    # Enregistre un temps en TicToc, marque le début d'un intervalle de temps\n",
    "    toc(False)\n",
    "\n",
    "def Cholesky(M): \n",
    "    A = np.copy(M)\n",
    "    n = A.shape[0]\n",
    "    L = np.zeros_like(A)\n",
    "    for i in range(n):\n",
    "        for j in range(i+1):\n",
    "            s = 0\n",
    "            for k in range(j):\n",
    "                s += L[i][k] * L[j][k]\n",
    "            if (i == j):\n",
    "                L[i][j] = (A[i][i] - s) ** 0.5\n",
    "            else:\n",
    "                L[i][j] = (1.0 / L[j][j] * (A[j][i] - s))\n",
    "    return L\n",
    "\n",
    "A = [[1., 0., 0., 0., 1.],\n",
    "     [0., 1., 0., 0., 1.],\n",
    "     [0., 0., 1., 0., 1.],\n",
    "     [0., 0., 0., 1., 1.],\n",
    "     [1., 1., 1., 1., 5.]]\n",
    "\n",
    "print(np.copy(A))\n",
    "print('-----------')\n",
    "tic()\n",
    "L1 = Cholesky(A)\n",
    "toc()\n",
    "print(L1)\n",
    "print('-----------')\n",
    "# on va quand même comparer avec la version numpy\n",
    "from numpy.linalg import cholesky\n",
    "tic()\n",
    "L2 = cholesky(A)\n",
    "toc()\n",
    "print(L2)\n",
    "# Sur une matrice plus grande...\n",
    "print('*********************')\n",
    "n=100\n",
    "B = np.random.random((n, n))\n",
    "B=B*B.transpose()+n*np.identity(n)\n",
    "# B(i,j) < 1 par construction et une matrice symétrique diagonalement dominante est définie positive symétrique\n",
    "# on ajoutant n*I a B*Bt\n",
    "tic\n",
    "L3=Cholesky(B)\n",
    "toc()\n",
    "L4 = cholesky(B)\n",
    "toc()\n",
    "print(np.allclose(L3,L4, rtol=1E-16))\n",
    "\n"
   ]
  },
  {
   "cell_type": "markdown",
   "id": "14551d9c",
   "metadata": {
    "slideshow": {
     "slide_type": "subslide"
    }
   },
   "source": [
    "Si on permute le ddl 1 avec le ddl 5, on obtient\n",
    "$${\\mathbf{A}}=\\begin{pmatrix}\n",
    "5.&    1.&    1.&    1.&    1.\\\\\n",
    "1.&    1.&    0.&    0.&    0.\\\\\n",
    "1.&    0.&    1.&    0.&    0.\\\\\n",
    "1.&    0.&    0.&    1.&    0.\\\\\n",
    "1.&    0.&    0.&    0.&    1.\n",
    "\\end{pmatrix}$$ \n",
    "Recommençons l'exercice."
   ]
  },
  {
   "cell_type": "code",
   "execution_count": 9,
   "id": "5d2f3245",
   "metadata": {
    "slideshow": {
     "slide_type": "-"
    }
   },
   "outputs": [
    {
     "name": "stdout",
     "output_type": "stream",
     "text": [
      "[[5. 1. 1. 1. 1.]\n",
      " [1. 1. 0. 0. 0.]\n",
      " [1. 0. 1. 0. 0.]\n",
      " [1. 0. 0. 1. 0.]\n",
      " [1. 0. 0. 0. 1.]]\n",
      "-----------\n",
      "[[ 2.23606798  0.          0.          0.          0.        ]\n",
      " [ 0.4472136   0.89442719  0.          0.          0.        ]\n",
      " [ 0.4472136  -0.2236068   0.8660254   0.          0.        ]\n",
      " [ 0.4472136  -0.2236068  -0.28867513  0.81649658  0.        ]\n",
      " [ 0.4472136  -0.2236068  -0.28867513 -0.40824829  0.70710678]]\n"
     ]
    }
   ],
   "source": [
    "import numpy as np\n",
    "A = [[5., 1., 1., 1., 1.],\n",
    "     [1., 1., 0., 0., 0.],\n",
    "     [1., 0., 1., 0., 0.],\n",
    "     [1., 0., 0., 1., 0.],\n",
    "     [1., 0., 0., 0., 1.]]\n",
    "\n",
    "print(np.copy(A))\n",
    "print('-----------')\n",
    "L1 = cholesky(A)\n",
    "print(L1)\n",
    "\n"
   ]
  },
  {
   "cell_type": "markdown",
   "id": "05fd5e76",
   "metadata": {
    "slideshow": {
     "slide_type": "subslide"
    }
   },
   "source": [
    "On obtient\n",
    "$${\\mathbf{L}}= \\begin{pmatrix}\n",
    "2.236068 &    0.       &    0.       &    0.       &    0.        \\\\\n",
    "0.4472136&    0.8944272&    0.       &    0.       &    0.        \\\\\n",
    "0.4472136&  - 0.2236068&    0.8660254&    0.       &    0.        \\\\\n",
    "0.4472136&  - 0.2236068&  - 0.2886751&    0.8164966&    0.        \\\\\n",
    "0.4472136&  - 0.2236068&  - 0.2886751&  - 0.4082483&    0.7071068\n",
    "\\end{pmatrix}$$ \n",
    "\n",
    "La taille de bande (symétrique) de la première matrice\n",
    "était $(1,1,1,1,5)$ et pour la seconde $(1,2,3,4,5)$.\n",
    "\n",
    "Là encore, les bibliothèques modernes incluent une analyse préalable du\n",
    "profil de la matrice (analyse symbolique, sans faire appel à la valeur\n",
    "des coefficients) qui permet de la renuméroter et d'ordonner les\n",
    "opérations de manière efficace."
   ]
  },
  {
   "cell_type": "markdown",
   "id": "66059f23",
   "metadata": {
    "slideshow": {
     "slide_type": "slide"
    }
   },
   "source": [
    "#### Stockage de rang faible\n",
    "\n",
    "Les matrices de rang faible jouent un rôle très important dans de\n",
    "nombreuses méthodes modernes car elles conduisent à des calculs peu\n",
    "chers (cf. Sherman Morrisson un peu plus tard) et bien alignés.\n",
    "\n",
    "Soit $A$ une matrice $m\\times n$, si $A$ est de rang $r$, il existe $U$\n",
    "$m\\times r$ et $V$ $n\\times r$ tels que $A=UV^T$. À noter que cette\n",
    "représentation n'est pas unique et qu'il faut rajouter des conditions\n",
    "pour la spécifier complètement (voir la SVD plus loin).\n",
    "\n",
    "AU lieu de stocker les $m n$ coefficients de $A$ qui est très\n",
    "probablement dense, on stocke les $r(m+n)$ coefficients de $U$ et $V$,\n",
    "ce qui est très efficace si $r\\ll\\min(m,n)$ (définition du rang faible).\n",
    "\n",
    "Il est alors important de comprendre que les opérations sur $A$ se font\n",
    "alors en fait sur $U$ et $V$ par exemple, si $x$ est un vecteur, quand\n",
    "on écrit $Ax$ en fait, on code $U*(V^T*x)$ et le nombre d'opération est\n",
    "proportionnel à $r$.\n",
    "\n",
    "*Remarque 1.1*. C'est peut-être l'occasion de rappeler qu'il faut se\n",
    "méfier des logiciels quand il s'agit d'exécuter plus de deux opérations:\n",
    "si vous écrivez $U*V^T*x$, un logiciel comme Matlab exécute la ligne de\n",
    "gauche à droite : $(U*V^T)*x$, ce qui est très mauvais par rapport à\n",
    "$U*(V^T*x)$. À moins d'utiliser un logiciel très intelligent qui prend\n",
    "le temps avant de faire des choix (évaluation paresseuse), il vaut mieux\n",
    "réfléchir et spécifier clairement l'ordre des opérations, dans la\n",
    "majorité des cas l'utilisateur sait ce qui est bon pour lui."
   ]
  },
  {
   "cell_type": "markdown",
   "id": "b891703d",
   "metadata": {
    "slideshow": {
     "slide_type": "slide"
    }
   },
   "source": [
    "### Stockage distribué\n",
    "\n",
    "On s'intéresse à la distribution des données sur plusieurs unités de\n",
    "calcul indépendantes. Cela correspond assez naturellement au stockage\n",
    "par blocs d'une matrice. On rencontre deux situations.\n",
    "\n",
    "Dans la première situation, la matrice creuse ${\\mathbf{A}}$\n",
    "apparaît naturellement sous une forme additive\n",
    "${\\mathbf{A}}=\\sum {\\mathbf{J}}^s{\\mathbf{A}}^s{\\mathbf{J}}^{s^T}$\n",
    "où ${\\mathbf{A}}^s$ est appelée contribution locale et\n",
    "${\\mathbf{J}}^{s}$ est une matrice booléenne qui fait le\n",
    "transfert entre degré de liberté local et degré de liberté global. Cette\n",
    "situation est rencontrée naturellement dans les méthodes de\n",
    "décomposition de domaine de type BDD et FETI. Il suffit alors de stocker\n",
    "${\\mathbf{A}}^s$ par processeur ainsi que les relations de\n",
    "connectivité associées à ${\\mathbf{J}}^{s}$ car un processeur\n",
    "parle à peu de voisins (grace au profil creux de la matrice).\n",
    "\n",
    "Dans le deuxième cas, la matrice ${\\mathbf{A}}$ n'est pas\n",
    "donnée sous forme additive, c'est la situation qui vient naturellement\n",
    "quand on utilise des méthodes de décomposition de domaine avec\n",
    "recouvrement. On choisit alors d'attribuer des lignes (ou des colonnes)\n",
    "aux processeurs. En général l'orientation du stockage est choisie en\n",
    "accord avec le stockage local des données (distribution par lignes d'un\n",
    "stockage par ligne) pour faciliter les mouvements entre données.\n",
    "\n",
    "Quant au stockage des vecteurs, il est naturel d'attribuer des lignes\n",
    "aux processeurs. Cependant, pour éviter les complications, il est\n",
    "souvent utile de stocker les mêmes lignes sur des processeurs\n",
    "différents. Par exemple une interface ou un overlap communs sont stockés\n",
    "par les deux processeurs voisins. Suivant les cas, on peut stocker les\n",
    "composantes du vecteur assemblé\n",
    "${\\mathbf{J}}^{s^T}{\\mathbf{v}}$ où les\n",
    "composantes avant assemblage $({\\mathbf{v}}^s)$ telles que\n",
    "${\\mathbf{v}}=\\sum{\\mathbf{J}}^s{\\mathbf{v}}^s$.\n",
    "\n"
   ]
  },
  {
   "cell_type": "markdown",
   "id": "2c3887eb",
   "metadata": {
    "slideshow": {
     "slide_type": "slide"
    }
   },
   "source": [
    "## Complexité des opérations\n",
    "\n",
    "### Fast Matrix Multiplication\n",
    "\n",
    "Il s'agit ici simplement de montrer qu'il est possible d'améliorer des\n",
    "méthodes même très basiques.\n",
    "\n",
    "Soit $\\mathbf{A}$ et $\\mathbf{B}$ deux matrices $n\\times n$. On veut\n",
    "calculer leur produit $\\mathbf{C}=\\mathbf{A}\\mathbf{B}$. Pour des raisons de simplicité on traite le cas où $n$ est pair. On peut toujours se ramener à ce cas en rajoutant éventuellement des colonnes et des lignes de zéeros. On partitionne\n",
    "les matrices en blocs de taille identique (ici $n/2$).\n",
    "\n",
    "L'algorithme naïf est : $$\\begin{aligned}\n",
    "\\mathbf{C}_{1,1} &= \\mathbf{A}_{1,1} \\mathbf{B}_{1,1} + \\mathbf{A}_{1,2} \\mathbf{B}_{2,1} \\\\\n",
    "\\mathbf{C}_{1,2} &= \\mathbf{A}_{1,1} \\mathbf{B}_{1,2} + \\mathbf{A}_{1,2} \\mathbf{B}_{2,2} \\\\ \n",
    "\\mathbf{C}_{2,1} &= \\mathbf{A}_{2,1} \\mathbf{B}_{1,1} + \\mathbf{A}_{2,2} \\mathbf{B}_{2,1} \\\\ \n",
    "\\mathbf{C}_{2,2} &= \\mathbf{A}_{2,1} \\mathbf{B}_{1,2} + \\mathbf{A}_{2,2} \\mathbf{B}_{2,2} \n",
    "\\end{aligned}$$ \n",
    "\n",
    "Cela conduit à 8 multiplications, la complexité est en\n",
    "$O(n^3)$ (de façon générale, le produit d'une matrice $ m × n$ par une matrice $n × p$ avec la méthode standard requiert $mnp$ multiplications et un nombre comparable d’additions."
   ]
  },
  {
   "cell_type": "markdown",
   "id": "8e45ca44",
   "metadata": {
    "slideshow": {
     "slide_type": "subslide"
    }
   },
   "source": [
    "L'algorithme de Strassen consiste à calculer: $$\\begin{aligned}\n",
    "\\mathbf{M}_1 &:= ( \\mathbf{A}_{1,1} + \\mathbf{A}_{2,2} ) ( \\mathbf{B}_{1,1} + \\mathbf{B}_{2,2} ) \\\\\n",
    "\\mathbf{M}_2 &:= ( \\mathbf{A}_{2,1} + \\mathbf{A}_{2,2} ) \\mathbf{B}_{1,1} \\\\\n",
    "\\mathbf{M}_3 &:= \\mathbf{A}_{1,1} ( \\mathbf{B}_{1,2} - \\mathbf{B}_{2,2} ) \\\\\n",
    "\\mathbf{M}_4 &:= \\mathbf{A}_{2,2} ( \\mathbf{B}_{2,1} - \\mathbf{B}_{1,1} ) \\\\\n",
    "\\mathbf{M}_5 &:= ( \\mathbf{A}_{1,1} + \\mathbf{A}_{1,2} ) \\mathbf{B}_{2,2} \\\\\n",
    "\\mathbf{M}_6 &:= ( \\mathbf{A}_{2,1} - \\mathbf{A}_{1,1} ) ( \\mathbf{B}_{1,1} + \\mathbf{B}_{1,2} ) \\\\\n",
    "\\mathbf{M}_7 &:= ( \\mathbf{A}_{1,2} - \\mathbf{A}_{2,2} ) ( \\mathbf{B}_{2,1} + \\mathbf{B}_{2,2} )\n",
    "\\end{aligned}$$ il n'y a que 7 multiplications. On a finalement :\n",
    "$$\\begin{aligned}\n",
    "\\mathbf{C}_{1,1} &= \\mathbf{M}_1 + \\mathbf{M}_4 - \\mathbf{M}_5 + \\mathbf{M}_7 \\\\\n",
    "\\mathbf{C}_{1,2} &= \\mathbf{M}_3 + \\mathbf{M}_5 \\\\\n",
    "\\mathbf{C}_{2,1} &= \\mathbf{M}_2 + \\mathbf{M}_4 \\\\\n",
    "\\mathbf{C}_{2,2} &= \\mathbf{M}_1 - \\mathbf{M}_2 + \\mathbf{M}_3 + \\mathbf{M}_6 \n",
    "\\end{aligned}$$ "
   ]
  },
  {
   "cell_type": "markdown",
   "id": "ccbbba17",
   "metadata": {
    "slideshow": {
     "slide_type": "subslide"
    }
   },
   "source": [
    "Cet algorithme conduit à une complexité de $O(n^{2,807})$ (exactement $O(n^{log_2(7)})$). On ne sait pas s’il existe un algorithme en $O(n^{2})$ pour ce problème (qui est le minimum, il faut bien toucher à chaque termes de la matrice). Par ailleurs, il se met en œuvre efficacement (bonne utilisation du cache). \n",
    "\n",
    "L'algorithme de Strassen n'est pas le plus performant, en fait la\n",
    "complexité optimale n'est pas connue. Actuellement, plusieurs\n",
    "algorithmes conduisent à $O(n^{2,3})$ et des précisions quasi optimales. Mais en pratique ils ne sont pas utilisés à ce jour car sont des algorithmiques dit \"galactiques\". \n",
    "\n",
    "*Un algorithme galactique est un algorithme de résolution d'un problème qui est plus rapide que tous les autres algorithmes quand le problème est suffisamment grand, mais dans le cas où « suffisamment grand » est tellement grand que l’algorithme n’est en pratique jamais utilisé.*\n",
    "\n",
    "On va comparer ces 2 méthodes en termes de temps de calcul avec 2 matrices carrées."
   ]
  },
  {
   "cell_type": "code",
   "execution_count": null,
   "id": "f7f4f8dd",
   "metadata": {},
   "outputs": [],
   "source": [
    "import numpy as np\n",
    "\n",
    "def matrix_prod8(A, B):\n",
    "    m = A.shape[0]\n",
    "    n=int(m/2)\n",
    "    C = np.zeros((m, m))\n",
    "    C[:n,:n] = (A[:n,:n]).dot(B[:n,:n]) + (A[:n,n:]).dot(B[n:,:n])\n",
    "    C[:n,n:] = (A[:n,:n]).dot(B[:n,n:]) + (A[:n,n:]).dot(B[n:,n:]) \n",
    "    C[n:,:n] = (A[n:,:n]).dot(B[:n,:n]) + (A[n:,n:]).dot(B[n:,:n]) \n",
    "    C[n:,n:] = (A[n:,:n]).dot(B[:n,n:]) + (A[n:,n:]).dot(B[n:,n:])\n",
    "    return C\n",
    "\n",
    "def matrix_prod7(A, B):\n",
    "    m = A.shape[0]\n",
    "    n=int(m/2)\n",
    "    C = np.zeros((m, m))\n",
    "    A11=A[:n,:n]\n",
    "    A12=A[:n,n:]\n",
    "    A21=A[n:,:n]\n",
    "    A22=A[n:,n:]\n",
    "    B11=B[:n,:n]\n",
    "    B12=B[:n,n:]\n",
    "    B21=B[n:,:n]\n",
    "    B22=B[n:,n:]\n",
    "    M1=(A11+A22).dot(B11+B22)\n",
    "    M2=(A21+A22).dot(B11)\n",
    "    M3=A11.dot(B12-B22)\n",
    "    M4=A22.dot(B21-B11)\n",
    "    M5=(A11+A12).dot(B22)\n",
    "    M6=(A21-A11).dot(B11+B12)\n",
    "    M7=(A12-A22).dot(B21+B22)\n",
    "    C[:n,:n] = M1+M4-M5+M7\n",
    "    C[:n,n:] = M3+M5\n",
    "    C[n:,:n] = M2+M4\n",
    "    C[n:,n:] = M1-M2+M3+M6\n",
    "    return C\n",
    "\n",
    "size=50000\n",
    "A = np.random.random((size, size))\n",
    "B = np.random.random((size, size))\n",
    "\n",
    "print(np.linalg.norm(matrix_prod8(A, B)-A.dot(B)))\n",
    "print(np.linalg.norm(matrix_prod7(A, B)-A.dot(B)))\n",
    "print('------------')\n",
    "%timeit A @ B\n",
    "%timeit matrix_prod8(A, B)\n",
    "%timeit matrix_prod7(A, B)"
   ]
  },
  {
   "cell_type": "markdown",
   "id": "2a978730",
   "metadata": {
    "slideshow": {
     "slide_type": "slide"
    }
   },
   "source": [
    "### Opérations sur données distribuées\n",
    "\n",
    "On étudie ici rapidement la complexité ajoutée par la distribution des\n",
    "données sur des opérations de base.\n",
    "\n",
    "Supposons la situation d'une matrice à structure additive\n",
    "${\\mathbf{A}}=\\sum {\\mathbf{J}}^s{\\mathbf{A}}^s{\\mathbf{J}}^{s^T}$\n",
    "que l'on veut multiplier avec un vecteur ${\\mathbf{v}}$\n",
    "assemblé et stocké sous la forme\n",
    "${\\mathbf{J}}^{s^T}{\\mathbf{v}}$. On a :\n",
    "$${\\mathbf{w}}={\\mathbf{A}}{\\mathbf{v}}=\\sum {\\mathbf{J}}^s{\\mathbf{A}}^s({\\mathbf{J}}^{s^T}{\\mathbf{v}})$$\n",
    "On lisant de droite à gauche, on voit qu'il faut dans un premier temps\n",
    "appliquer le produit local\n",
    "${\\mathbf{w}}^s={\\mathbf{A}}^s({\\mathbf{J}}^{s^T}{\\mathbf{v}})$\n",
    "en parallèle, suivi de l'assemblage\n",
    "${\\mathbf{w}}=\\sum {\\mathbf{J}}^s{\\mathbf{w}}^s$.\n",
    "Cette opération requiert de communiquer entre les processeurs. Plus\n",
    "précisément il s'agit d'une communication entre voisins, tous les\n",
    "voisins s'échangent des données. On parle d'opération collective creuse\n",
    "(NEIGHBOR_ALLTOALL en protocole MPI). Cette opération supporte assez\n",
    "bien le passage au grand nombre de processeurs car le nombre de maximal\n",
    "de voisins est en pratique limité (indépendant du nombre total de\n",
    "sous-domaine)."
   ]
  },
  {
   "cell_type": "markdown",
   "id": "e03af538",
   "metadata": {
    "slideshow": {
     "slide_type": "slide"
    }
   },
   "source": [
    "On s'intéresse maintenant au produit scalaire. Soit à calculer\n",
    "${\\mathbf{v}}^T{\\mathbf{w}}$. Le cas favorable est\n",
    "celui d'un vecteur assemblé stocké sous la forme\n",
    "${\\mathbf{J}}^{s^T}{\\mathbf{v}}$ et celui d'un\n",
    "vecteur stocké non-assemblé\n",
    "${\\mathbf{w}}=\\sum{\\mathbf{J}}^s{\\mathbf{w}}^s$\n",
    "en effet dans ce cas, on a :\n",
    "$${\\mathbf{v}}^T{\\mathbf{w}}={\\mathbf{v}}^T(\\sum {\\mathbf{J}}^s{\\mathbf{w}}^s) = \\sum ({\\mathbf{J}}^{s^T}{\\mathbf{v}})^T{\\mathbf{w}}^s$$\n",
    "On obtient une somme simple de calculs locaux. Dans le cas où les deux\n",
    "vecteurs sont assemblés, il faut trouver un mécanisme pour éviter des\n",
    "sommer les redondances. Dans ce cas, on peut considérer le désassemblage\n",
    "${\\mathbf{w}}^s={\\mathbf{J}}^{s^\\dagger}{\\mathbf{w}}$.\n",
    "La pseudo-inverse de ${\\mathbf{J}}^{s}$ est souvent appelée\n",
    "opérateur de *scaling*."
   ]
  },
  {
   "cell_type": "markdown",
   "id": "af55ec8d",
   "metadata": {
    "slideshow": {
     "slide_type": "subslide"
    }
   },
   "source": [
    "In fine, on se retrouve à sommer des scalaires obtenus par des calculs\n",
    "indépendants par processeur. Le résultat (unique) de cette comme doit\n",
    "être connu de tous les processeurs. On parle de réduction globale par\n",
    "sommation (ALL_REDUCE(...,MPI_SUM) en protocole mpi). C'est une\n",
    "opération dont la complexité est en $\\log_2(N)$ où $N$ est le nombre de\n",
    "processeurs, les performances sont d'ailleurs légèrement moins bonnes\n",
    "quand $N$ n'est pas une puissance de 2. Pour les très grands nombres de\n",
    "sous-domaines $\\log_2(N)$ peut ne pas être négligeable et causer des\n",
    "goulots d'étranglement. Il est recommandé de minimiser les appels à ces\n",
    "méthodes voire à les masquer en les réalisant en toile de fond pendant\n",
    "que d'autres opérations ne nécessitant pas le résultat final se\n",
    "déroulent (*communication hiding algorithms*)."
   ]
  },
  {
   "cell_type": "markdown",
   "id": "cfe18889",
   "metadata": {
    "slideshow": {
     "slide_type": "slide"
    }
   },
   "source": [
    "## Compilateurs et interpréteurs\n",
    "\n",
    "Quand on programme, on a plusieurs choix de plateformes, avec leurs\n",
    "avantages et inconvénients.\n",
    "\n",
    "Les langages interprétés (anciennes version de Matlab, Octave, Python,\n",
    "Scilab,...) fonctionnent sur le principe du REPL (Read, Execute, Print,\n",
    "Loop). Ils ont l'avantage de donner un accès facile au contenu de la\n",
    "mémoire mais ils n'ont pas d'opportunité pour s'optimiser car ils\n",
    "exécutent une ligne après l'autre sans pouvoir anticiper. Il faut donc\n",
    "programmer en utilisant des fonctions préprogrammées (souvent compilées)\n",
    "de haut niveau. Il faut donc chercher le nom des méthodes existantes. Il\n",
    "est également important d'avoir une gestion de la mémoire intelligente\n",
    "et ne pas tomber dans les pièges de la facilité cf\n",
    "code ci-dessous... La dépendance à l'interpréteur qui n'est pas\n",
    "nécessairement disponible sur toutes les machines peut aussi être un\n",
    "problème."
   ]
  },
  {
   "cell_type": "code",
   "execution_count": 15,
   "id": "86bf8f7c",
   "metadata": {
    "slideshow": {
     "slide_type": "subslide"
    }
   },
   "outputs": [
    {
     "name": "stdout",
     "output_type": "stream",
     "text": [
      "Elapsed time: 0.882638 seconds.\n",
      "\n",
      "Elapsed time: 1.844521 seconds.\n",
      "\n",
      "Elapsed time: 0.895307 seconds.\n",
      "\n"
     ]
    }
   ],
   "source": [
    "import numpy as np\n",
    "import time\n",
    "\n",
    "def TicTocGenerator():\n",
    "    # Générateur qui renvoie les différences de temps\n",
    "    ti = 0           # temps initial\n",
    "    tf = time.time() # temps final\n",
    "    while True:\n",
    "        ti = tf\n",
    "        tf = time.time()\n",
    "        yield tf-ti # renvoie la différence de temps\n",
    "\n",
    "TicToc = TicTocGenerator() # créer une instance du générateur TicTocGen\n",
    "\n",
    "# Fonction principale à travers laquelle sont définis à la fois tic() et toc().\n",
    "def toc(tempBool=True):\n",
    "    # Affiche la différence de temps produite par l'instance du générateur TicToc.\n",
    "    tempTimeInterval = next(TicToc)\n",
    "    if tempBool:\n",
    "        print( \"Temps écoulé : %f secondes.\\n\" %tempTimeInterval )\n",
    "\n",
    "def tic():\n",
    "    # Enregistre un temps en TicToc, marque le début d'un intervalle de temps\n",
    "    toc(False)\n",
    "    \n",
    "n = 10000; m=10000;\n",
    "a = np.random.random((m,1))\n",
    "\n",
    "tic()\n",
    "for i in range(0,n):\n",
    "    a = [a, np.random.random((m,1))];\n",
    "toc()\n",
    "\n",
    "b = np.zeros((m,n))\n",
    "\n",
    "tic()\n",
    "for i in range(0,n):\n",
    "    b[:,i] = np.random.random((1,n));\n",
    "toc()\n",
    "\n",
    "c = np.zeros((m,n))\n",
    "\n",
    "tic()\n",
    "for i in range(0,n):\n",
    "    c[i,:] = np.random.random((1,n));\n",
    "toc()"
   ]
  },
  {
   "cell_type": "markdown",
   "id": "27a887cf",
   "metadata": {
    "slideshow": {
     "slide_type": "subslide"
    }
   },
   "source": [
    "À l'autre bout du spectre, les langages compilés (c, c++, fortran)\n",
    "consistent à donner des blocs de codes à un compilateur qui va pouvoir\n",
    "en optimiser l'exécution (parfois au prix d'une compilation lente). Il\n",
    "est utile de donner le maximum d'information au compilateur pour qu'il\n",
    "puisse au mieux s'optimiser. Pour coder de manière générique tout en\n",
    "optimisant le code, on peut utiliser des *templates* en c++ ou d'autres\n",
    "techniques. Typiquement il est intéressant de compiler des versions 2D\n",
    "et 3D des codes avec la dimension de l'espace donnée en dur, voir le\n",
    "code ci-après où l'on exploite le fait que tous les noeuds\n",
    "ont le même nombre de coordonnées ou pas."
   ]
  },
  {
   "cell_type": "markdown",
   "id": "10a1251a",
   "metadata": {
    "slideshow": {
     "slide_type": "skip"
    }
   },
   "source": [
    "``` {.cpp tabsize=\"2\" fontsize=\"\\\\small\" xleftmargin=\"1pt\" framesep=\"2mm\"}\n",
    "#include <ctime>\n",
    "#include <iostream>\n",
    "#include <array>\n",
    "#include <vector>\n",
    "\n",
    "int main(int argc, char *argv[]) {\n",
    "double dt;\n",
    "std::clock_t begin,end;\n",
    "unsigned nb=1000000;//number of nodes\n",
    "\n",
    "// Version brute\n",
    "begin = clock();\n",
    "std::vector< std::vector< double > > b1 ;\n",
    "b1.resize(nb);\n",
    "for (int i = 0; i<nb;++i) {\n",
    "b1[i].resize(3);\n",
    "for (int j = 0; j<3; ++j){\n",
    "b1[i][j]=i+j;}}\n",
    "end = clock(); \n",
    "dt = double(end-begin)/CLOCKS_PER_SEC;\n",
    "std::cout << \"Time vector \\t\" << dt << std::endl;\n",
    "\n",
    "// Exploitation de la dimension fixe\n",
    "begin = clock();\n",
    "std::vector< std::array< double,3 > > b2 ;\n",
    "b2.resize(nb);\n",
    "for (int i = 0; i<nb;++i) {\n",
    "for (int j = 0; j<3; ++j){\n",
    "b2[i][j]=i+j;}}\n",
    "end = clock(); \n",
    "dt = double(end-begin)/CLOCKS_PER_SEC;\n",
    "std::cout << \"Time array \\t\" << dt << std::endl;\n",
    "}\n",
    "```"
   ]
  },
  {
   "cell_type": "markdown",
   "id": "fa1c2831",
   "metadata": {
    "slideshow": {
     "slide_type": "subslide"
    }
   },
   "source": [
    "Le problème des codes compilés est l'accès aux données en cours\n",
    "d'exécution qui facilite le debogage, et les problèmes d'allocation\n",
    "mémoire. Pour cela, il est bon de savoir utiliser un débogeur (gdb) et\n",
    "un vérificateur de mémoire (valgrind). La dépendance aux librairies\n",
    "extérieures peut compliquer la compilation.\n",
    "\n",
    "Un intermédiaire est l'utilisation de langage compilés à la volée ou\n",
    "*just in time* (julia, matlab nouvelle version, python+numba, c++ avec\n",
    "llvm-jit). À la première exécution d'une fonction, elle est compilée, ce\n",
    "qui permet de l'optimiser et rendra rapide toutes les exécutions\n",
    "suivantes.\n",
    "\n",
    "On propose de comparer la vitesse d'exécution du produit de 2 matrices, en version classique, compilés à la volée avec numba et en version numpy."
   ]
  },
  {
   "cell_type": "code",
   "execution_count": 1,
   "id": "317ebd09",
   "metadata": {
    "slideshow": {
     "slide_type": "subslide"
    }
   },
   "outputs": [],
   "source": [
    "import numpy as np\n",
    "from numba import jit\n",
    "\n",
    "def matrix_prod_nonumba(A, B):\n",
    "    m, n = A.shape\n",
    "    n, p = B.shape\n",
    "    C = np.zeros((m, p))\n",
    "    for i in range(m):\n",
    "        for j in range(p):\n",
    "            for k in range(n):\n",
    "                C[i,j] += A[i,k] * B[k, j]\n",
    "    return C\n",
    "\n",
    "@jit\n",
    "## compilation numba\n",
    "def matrix_prod_numba(A, B):\n",
    "    m, n = A.shape\n",
    "    n, p = B.shape\n",
    "    C = np.zeros((m, p))\n",
    "    for i in range(m):\n",
    "        for j in range(p):\n",
    "            for k in range(n):\n",
    "                C[i,j] += A[i,k] * B[k, j]\n",
    "    return C\n",
    "\n",
    "@jit\n",
    "def matrix_prod_numba_opt(A, B):\n",
    "    m, n = A.shape\n",
    "    n, p = B.shape\n",
    "    C = np.zeros((m, p))\n",
    "    for i in range(m):\n",
    "        for j in range(p):\n",
    "            d = 0.0\n",
    "            for k in range(n):\n",
    "                d += A[i,k] * B[k, j]\n",
    "## Sans le coût de l'indexation de la matrice dans la boucle interne \n",
    "            C[i,j] = d\n",
    "    return C\n",
    "\n",
    "def matrix_prod_numpy(A, B):\n",
    "    return A.dot(B)\n",
    "\n",
    "\n",
    "\n",
    "size1=70\n",
    "size2=50\n",
    "size3=40\n",
    "A = np.random.random((size1, size2))\n",
    "B = np.random.random((size2, size3))\n"
   ]
  },
  {
   "cell_type": "code",
   "execution_count": 2,
   "id": "33aad5b5",
   "metadata": {
    "slideshow": {
     "slide_type": "subslide"
    }
   },
   "outputs": [
    {
     "name": "stdout",
     "output_type": "stream",
     "text": [
      "68.8 ms ± 6.94 ms per loop (mean ± std. dev. of 7 runs, 10 loops each)\n",
      "195 µs ± 15 µs per loop (mean ± std. dev. of 7 runs, 1 loop each)\n",
      "117 µs ± 1.93 µs per loop (mean ± std. dev. of 7 runs, 10,000 loops each)\n",
      "5.49 µs ± 44 ns per loop (mean ± std. dev. of 7 runs, 100,000 loops each)\n"
     ]
    }
   ],
   "source": [
    "%timeit matrix_prod_nonumba(A, B)\n",
    "%timeit matrix_prod_numba(A, B)\n",
    "%timeit matrix_prod_numba_opt(A, B)\n",
    "%timeit matrix_prod_numpy(A, B)"
   ]
  }
 ],
 "metadata": {
  "celltoolbar": "Diaporama",
  "kernelspec": {
   "display_name": "Python 3 (ipykernel)",
   "language": "python",
   "name": "python3"
  },
  "language_info": {
   "codemirror_mode": {
    "name": "ipython",
    "version": 3
   },
   "file_extension": ".py",
   "mimetype": "text/x-python",
   "name": "python",
   "nbconvert_exporter": "python",
   "pygments_lexer": "ipython3",
   "version": "3.9.7"
  },
  "toc": {
   "base_numbering": 1,
   "nav_menu": {},
   "number_sections": true,
   "sideBar": true,
   "skip_h1_title": false,
   "title_cell": "Table of Contents",
   "title_sidebar": "Contents",
   "toc_cell": false,
   "toc_position": {},
   "toc_section_display": true,
   "toc_window_display": false
  },
  "varInspector": {
   "cols": {
    "lenName": 16,
    "lenType": 16,
    "lenVar": 40
   },
   "kernels_config": {
    "python": {
     "delete_cmd_postfix": "",
     "delete_cmd_prefix": "del ",
     "library": "var_list.py",
     "varRefreshCmd": "print(var_dic_list())"
    },
    "r": {
     "delete_cmd_postfix": ") ",
     "delete_cmd_prefix": "rm(",
     "library": "var_list.r",
     "varRefreshCmd": "cat(var_dic_list()) "
    }
   },
   "types_to_exclude": [
    "module",
    "function",
    "builtin_function_or_method",
    "instance",
    "_Feature"
   ],
   "window_display": false
  }
 },
 "nbformat": 4,
 "nbformat_minor": 5
}
